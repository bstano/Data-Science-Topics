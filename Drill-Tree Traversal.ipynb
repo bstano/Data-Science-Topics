{
 "cells": [
  {
   "cell_type": "code",
   "execution_count": 1,
   "metadata": {},
   "outputs": [],
   "source": [
    "import sys"
   ]
  },
  {
   "cell_type": "code",
   "execution_count": 2,
   "metadata": {},
   "outputs": [],
   "source": [
    "class Node:\n",
    "    def __init__(self, val):\n",
    "        self.left = None\n",
    "        self.right = None\n",
    "        self.val = val\n",
    "        \n",
    "    def get_right(self):\n",
    "        return self.right\n",
    "    \n",
    "    def get_left(self):\n",
    "        return self.left"
   ]
  },
  {
   "cell_type": "code",
   "execution_count": 3,
   "metadata": {},
   "outputs": [],
   "source": [
    "def breadth(Node):\n",
    "    result = []\n",
    "    layer = [Node]\n",
    "    while layer:\n",
    "        next_layer = list()\n",
    "        for n in layer:\n",
    "            result.append(n.val)\n",
    "            if n.left:\n",
    "                next_layer.append(n.left)\n",
    "            if n.right:\n",
    "                next_layer.append(n.right)\n",
    "        layer = next_layer\n",
    "    return result"
   ]
  },
  {
   "cell_type": "code",
   "execution_count": 4,
   "metadata": {},
   "outputs": [],
   "source": [
    "root = Node(1296)\n",
    "root.left = Node(648)\n",
    "root.right = Node(432)\n",
    "root.left.left = Node(324)\n",
    "root.left.right = Node(216)\n",
    "root.right.left = Node(216)\n",
    "root.right.right = Node(144)\n",
    "root.left.left.left = Node(162)\n",
    "root.left.left.right = Node(108)\n",
    "root.left.right.left = Node(108)\n",
    "root.left.right.right = Node(72)\n",
    "root.right.left.left = Node(108)\n",
    "root.right.left.right = Node(72)\n",
    "root.right.right.left = Node(72)\n",
    "root.right.right.right = Node(48)"
   ]
  },
  {
   "cell_type": "code",
   "execution_count": 5,
   "metadata": {},
   "outputs": [
    {
     "data": {
      "text/plain": [
       "[1296, 648, 432, 324, 216, 216, 144, 162, 108, 108, 72, 108, 72, 72, 48]"
      ]
     },
     "execution_count": 5,
     "metadata": {},
     "output_type": "execute_result"
    }
   ],
   "source": [
    "breadth(root)"
   ]
  }
 ],
 "metadata": {
  "kernelspec": {
   "display_name": "Python 3",
   "language": "python",
   "name": "python3"
  },
  "language_info": {
   "codemirror_mode": {
    "name": "ipython",
    "version": 3
   },
   "file_extension": ".py",
   "mimetype": "text/x-python",
   "name": "python",
   "nbconvert_exporter": "python",
   "pygments_lexer": "ipython3",
   "version": "3.6.4"
  }
 },
 "nbformat": 4,
 "nbformat_minor": 2
}
